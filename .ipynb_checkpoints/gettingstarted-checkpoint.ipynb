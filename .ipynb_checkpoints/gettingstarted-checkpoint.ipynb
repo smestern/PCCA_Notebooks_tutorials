{
 "cells": [
  {
   "cell_type": "markdown",
   "metadata": {},
   "source": [
    "## 1. Getting started"
   ]
  },
  {
   "cell_type": "markdown",
   "metadata": {},
   "source": [
    "### Installing the prereq."
   ]
  },
  {
   "cell_type": "markdown",
   "metadata": {},
   "source": [
    "If you have not already, you will need to install python. I recommend using [Anaconda](https://www.anaconda.com/products/individual).\n",
    "\n",
    "To get started we will need to install and import the 4 main packages used within this tutorial:\n",
    "1. Numpy\n",
    "2. MatplotLib\n",
    "3. [pyABF](https://github.com/swharden/pyABF) by Scott Harden\n",
    "4. [ipfx](https://github.com/AllenInstitute/ipfx) from the Allen Institute\n",
    "\n",
    "these can be installed using pip. For example:\n",
    "\n",
    "``` pip install ipfx ```"
   ]
  },
  {
   "cell_type": "markdown",
   "metadata": {},
   "source": [
    "### Importing our packages and loading our data"
   ]
  },
  {
   "cell_type": "markdown",
   "metadata": {},
   "source": [
    "To begin with we will import our necessary packages:"
   ]
  },
  {
   "cell_type": "code",
   "execution_count": 1,
   "metadata": {},
   "outputs": [
    {
     "name": "stderr",
     "output_type": "stream",
     "text": [
      "C:\\Users\\SMest\\Anaconda3\\lib\\site-packages\\numpy\\_distributor_init.py:32: UserWarning: loaded more than 1 DLL from .libs:\n",
      "C:\\Users\\SMest\\Anaconda3\\lib\\site-packages\\numpy\\.libs\\libopenblas.NOIJJG62EMASZI6NYURL6JBKM4EVBGM7.gfortran-win_amd64.dll\n",
      "C:\\Users\\SMest\\Anaconda3\\lib\\site-packages\\numpy\\.libs\\libopenblas.PYQHXLVVQ7VESDPUVUADXEVJOBGHJPAY.gfortran-win_amd64.dll\n",
      "  stacklevel=1)\n",
      "In C:\\Users\\SMest\\Anaconda3\\lib\\site-packages\\matplotlib\\mpl-data\\stylelib\\_classic_test.mplstyle: \n",
      "The text.latex.preview rcparam was deprecated in Matplotlib 3.3 and will be removed two minor releases later.\n",
      "In C:\\Users\\SMest\\Anaconda3\\lib\\site-packages\\matplotlib\\mpl-data\\stylelib\\_classic_test.mplstyle: \n",
      "The mathtext.fallback_to_cm rcparam was deprecated in Matplotlib 3.3 and will be removed two minor releases later.\n",
      "In C:\\Users\\SMest\\Anaconda3\\lib\\site-packages\\matplotlib\\mpl-data\\stylelib\\_classic_test.mplstyle: Support for setting the 'mathtext.fallback_to_cm' rcParam is deprecated since 3.3 and will be removed two minor releases later; use 'mathtext.fallback : 'cm' instead.\n",
      "In C:\\Users\\SMest\\Anaconda3\\lib\\site-packages\\matplotlib\\mpl-data\\stylelib\\_classic_test.mplstyle: \n",
      "The validate_bool_maybe_none function was deprecated in Matplotlib 3.3 and will be removed two minor releases later.\n",
      "In C:\\Users\\SMest\\Anaconda3\\lib\\site-packages\\matplotlib\\mpl-data\\stylelib\\_classic_test.mplstyle: \n",
      "The savefig.jpeg_quality rcparam was deprecated in Matplotlib 3.3 and will be removed two minor releases later.\n",
      "In C:\\Users\\SMest\\Anaconda3\\lib\\site-packages\\matplotlib\\mpl-data\\stylelib\\_classic_test.mplstyle: \n",
      "The keymap.all_axes rcparam was deprecated in Matplotlib 3.3 and will be removed two minor releases later.\n",
      "In C:\\Users\\SMest\\Anaconda3\\lib\\site-packages\\matplotlib\\mpl-data\\stylelib\\_classic_test.mplstyle: \n",
      "The animation.avconv_path rcparam was deprecated in Matplotlib 3.3 and will be removed two minor releases later.\n",
      "In C:\\Users\\SMest\\Anaconda3\\lib\\site-packages\\matplotlib\\mpl-data\\stylelib\\_classic_test.mplstyle: \n",
      "The animation.avconv_args rcparam was deprecated in Matplotlib 3.3 and will be removed two minor releases later.\n"
     ]
    }
   ],
   "source": [
    "import numpy as np\n",
    "import matplotlib.pyplot as plt\n",
    "import pyabf\n",
    "import ipfx"
   ]
  },
  {
   "cell_type": "markdown",
   "metadata": {},
   "source": [
    "Loading our data is as simple as a single command! I have provided an example data file (excuse the noisy recording). However feel free to excute this notebook locally with your own abf files!"
   ]
  },
  {
   "cell_type": "code",
   "execution_count": 2,
   "metadata": {},
   "outputs": [],
   "source": [
    "abf = pyabf.ABF(\"data/example1.abf\") #this tells pyabf to load our data and store it in an abf object"
   ]
  },
  {
   "cell_type": "markdown",
   "metadata": {},
   "source": [
    "This loads our data as an python object. \n",
    "Now, we can simple access the various data of the abf file by access the objects attributes. \n",
    "In python these are accessed by using the \n",
    "` abf.<something> ` conventions"
   ]
  },
  {
   "cell_type": "code",
   "execution_count": 3,
   "metadata": {},
   "outputs": [
    {
     "name": "stdout",
     "output_type": "stream",
     "text": [
      "Loaded abf file example1 with sampling rate 20000hz, and 15 sweeps\n"
     ]
    }
   ],
   "source": [
    "### ABF metadata is loaded with the file. This can be accessed using the ABF objects properties\n",
    "file_id = abf.abfID\n",
    "sampling_rate = abf.dataRate\n",
    "sweeps = abf.sweepCount\n",
    "\n",
    "print(f\"Loaded abf file {file_id} with sampling rate {sampling_rate}hz, and {sweeps} sweeps\")"
   ]
  },
  {
   "cell_type": "markdown",
   "metadata": {},
   "source": [
    "We can also view a full list of all the data available to us:"
   ]
  },
  {
   "cell_type": "code",
   "execution_count": 4,
   "metadata": {},
   "outputs": [
    {
     "data": {
      "text/plain": [
       "['__class__',\n",
       " '__delattr__',\n",
       " '__dict__',\n",
       " '__dir__',\n",
       " '__doc__',\n",
       " '__eq__',\n",
       " '__format__',\n",
       " '__ge__',\n",
       " '__getattribute__',\n",
       " '__gt__',\n",
       " '__hash__',\n",
       " '__init__',\n",
       " '__init_subclass__',\n",
       " '__le__',\n",
       " '__lt__',\n",
       " '__module__',\n",
       " '__ne__',\n",
       " '__new__',\n",
       " '__reduce__',\n",
       " '__reduce_ex__',\n",
       " '__repr__',\n",
       " '__setattr__',\n",
       " '__sizeof__',\n",
       " '__str__',\n",
       " '__subclasshook__',\n",
       " '__weakref__',\n",
       " '_adcSection',\n",
       " '_cacheStimulusFiles',\n",
       " '_dacSection',\n",
       " '_dataGain',\n",
       " '_dataOffset',\n",
       " '_dtype',\n",
       " '_epochPerDacSection',\n",
       " '_epochSection',\n",
       " '_fileGUID',\n",
       " '_fileSize',\n",
       " '_headerV2',\n",
       " '_ide_helper',\n",
       " '_loadAndScaleData',\n",
       " '_makeAdditionalVariables',\n",
       " '_nDataFormat',\n",
       " '_preLoadData',\n",
       " '_protocolSection',\n",
       " '_readHeadersV1',\n",
       " '_readHeadersV2',\n",
       " '_sectionMap',\n",
       " '_stringsIndexed',\n",
       " '_stringsSection',\n",
       " '_sweepBaselinePoints',\n",
       " '_synchArraySection',\n",
       " '_tagSection',\n",
       " 'abfDateTime',\n",
       " 'abfDateTimeString',\n",
       " 'abfFileComment',\n",
       " 'abfFilePath',\n",
       " 'abfFolderPath',\n",
       " 'abfID',\n",
       " 'abfVersion',\n",
       " 'abfVersionString',\n",
       " 'adcNames',\n",
       " 'adcUnits',\n",
       " 'channelCount',\n",
       " 'channelList',\n",
       " 'creator',\n",
       " 'creatorVersion',\n",
       " 'creatorVersionString',\n",
       " 'dacNames',\n",
       " 'dacUnits',\n",
       " 'data',\n",
       " 'dataByteStart',\n",
       " 'dataLengthMin',\n",
       " 'dataLengthSec',\n",
       " 'dataPointByteSize',\n",
       " 'dataPointCount',\n",
       " 'dataPointsPerMs',\n",
       " 'dataRate',\n",
       " 'dataSecPerPoint',\n",
       " 'fileGUID',\n",
       " 'fileUUID',\n",
       " 'headerHTML',\n",
       " 'headerLaunch',\n",
       " 'headerMarkdown',\n",
       " 'headerText',\n",
       " 'holdingCommand',\n",
       " 'launchInClampFit',\n",
       " 'md5',\n",
       " 'protocol',\n",
       " 'protocolPath',\n",
       " 'saveABF1',\n",
       " 'setSweep',\n",
       " 'stimulusByChannel',\n",
       " 'stimulusFileFolder',\n",
       " 'sweepC',\n",
       " 'sweepChannel',\n",
       " 'sweepCount',\n",
       " 'sweepD',\n",
       " 'sweepDerivative',\n",
       " 'sweepEpochs',\n",
       " 'sweepIntervalSec',\n",
       " 'sweepLabelC',\n",
       " 'sweepLabelD',\n",
       " 'sweepLabelX',\n",
       " 'sweepLabelY',\n",
       " 'sweepLengthSec',\n",
       " 'sweepList',\n",
       " 'sweepNumber',\n",
       " 'sweepPointCount',\n",
       " 'sweepTimesMin',\n",
       " 'sweepTimesSec',\n",
       " 'sweepUnitsC',\n",
       " 'sweepUnitsX',\n",
       " 'sweepUnitsY',\n",
       " 'sweepX',\n",
       " 'sweepY',\n",
       " 'tagComments',\n",
       " 'tagSweeps',\n",
       " 'tagTimesMin',\n",
       " 'tagTimesSec',\n",
       " 'userList']"
      ]
     },
     "execution_count": 4,
     "metadata": {},
     "output_type": "execute_result"
    }
   ],
   "source": [
    "dir(abf)"
   ]
  },
  {
   "cell_type": "markdown",
   "metadata": {},
   "source": [
    "### Getting the Sweeps"
   ]
  },
  {
   "cell_type": "markdown",
   "metadata": {},
   "source": [
    "The actual data is stored in the abf.Data property. However the data is not separated by sweep, and is stored continuously."
   ]
  },
  {
   "cell_type": "code",
   "execution_count": 5,
   "metadata": {},
   "outputs": [
    {
     "name": "stdout",
     "output_type": "stream",
     "text": [
      "[[-71.8384 -72.052  -71.9299 ... -68.6035 -68.3289 -68.5425]]\n",
      "1500000\n"
     ]
    }
   ],
   "source": [
    "print(abf.data)\n",
    "print(abf.data[0].shape[0])"
   ]
  },
  {
   "cell_type": "markdown",
   "metadata": {},
   "source": [
    "To make it easy to select a specific sweep pyABF provides a ` abf.setSweep(x) ` attribute. Once setting a specific sweep, data can be accessed using `abf.sweepX, abf.sweepY, abf.sweepC` whereas X is the time, Y is the response, and C is the command. \n",
    "Lets plot a single sweep:"
   ]
  },
  {
   "cell_type": "code",
   "execution_count": 10,
   "metadata": {},
   "outputs": [
    {
     "data": {
      "text/plain": [
       "Text(0, 0.5, 'Applied Current (pA)')"
      ]
     },
     "execution_count": 10,
     "metadata": {},
     "output_type": "execute_result"
    },
    {
     "data": {
      "image/png": "[encoded data removed]",
      "text/plain": [
       "<Figure size 432x288 with 1 Axes>"
      ]
     },
     "metadata": {
      "needs_background": "light"
     },
     "output_type": "display_data"
    },
    {
     "data": {
      "image/png": "[encoded data removed]",
      "text/plain": [
       "<Figure size 432x288 with 1 Axes>"
      ]
     },
     "metadata": {
      "needs_background": "light"
     },
     "output_type": "display_data"
    }
   ],
   "source": [
    "abf.setSweep(7)\n",
    "sweepX = abf.sweepX\n",
    "sweepY = abf.sweepY\n",
    "sweepC = abf.sweepC\n",
    "#Create a figure\n",
    "plt.figure(1)\n",
    "plt.plot(sweepX, sweepY)\n",
    "plt.xlabel(\"Time (s)\")\n",
    "plt.ylabel(abf.sweepLabelY) #note we can pull the label from here\n",
    "# We could also use abf.sweepUnitsY # This can be helpful in determining Clamp mode programmatically!\n",
    "#create a second figure to show the command waveform\n",
    "plt.figure(2)\n",
    "plt.plot(sweepX, sweepC)\n",
    "plt.xlabel(\"Time (s)\")\n",
    "plt.ylabel(abf.sweepLabelC)\n"
   ]
  },
  {
   "cell_type": "markdown",
   "metadata": {},
   "source": [
    "To access each sweep we can use a for loop. To do so, I recommend using `abf.sweepList` which provides a numerical iter for each possible sweep (helps to ensure you don't iter out of range)"
   ]
  },
  {
   "cell_type": "code",
   "execution_count": 11,
   "metadata": {},
   "outputs": [
    {
     "data": {
      "image/png": "[encoded data removed]",
      "text/plain": [
       "<Figure size 432x288 with 1 Axes>"
      ]
     },
     "metadata": {
      "needs_background": "light"
     },
     "output_type": "display_data"
    }
   ],
   "source": [
    "for sweepNumber in abf.sweepList: #steps through each sweep\n",
    "  abf.setSweep(sweepNumber) #Set the sweep to that number\n",
    "  plt.plot(abf.sweepX, abf.sweepY) # and plot the sweeps\n",
    "plt.xlabel(\"Time (s)\")\n",
    "plt.ylabel(abf.sweepLabelY)"
   ]
  },
  {
   "cell_type": "markdown",
   "metadata": {},
   "source": [
    "Now that we can open and view our data, lets find some spikes!"
   ]
  }
 ],
 "metadata": {
  "kernelspec": {
   "display_name": "Python 3",
   "language": "python",
   "name": "python3"
  },
  "language_info": {
   "codemirror_mode": {
    "name": "ipython",
    "version": 3
   },
   "file_extension": ".py",
   "mimetype": "text/x-python",
   "name": "python",
   "nbconvert_exporter": "python",
   "pygments_lexer": "ipython3",
   "version": "3.7.1"
  }
 },
 "nbformat": 4,
 "nbformat_minor": 4
}
