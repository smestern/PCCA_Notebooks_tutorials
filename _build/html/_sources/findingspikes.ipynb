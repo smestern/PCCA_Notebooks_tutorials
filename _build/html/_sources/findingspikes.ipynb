{
 "cells": [
  {
   "cell_type": "markdown",
   "metadata": {},
   "source": [
    "## 2. Finding Spikes!"
   ]
  },
  {
   "cell_type": "markdown",
   "metadata": {},
   "source": [
    "### Note"
   ]
  },
  {
   "cell_type": "markdown",
   "metadata": {},
   "source": [
    "This section primairly focuses using IPFX to analyze your patch clamp data. In particular focuses on analyzing current clamp data. However you may find success with other analysis packages such as [https://github.com/BlueBrain/BluePyEfe](https://github.com/BlueBrain/BluePyEfe)"
   ]
  },
  {
   "cell_type": "code",
   "execution_count": 1,
   "metadata": {},
   "outputs": [
    {
     "name": "stderr",
     "output_type": "stream",
     "text": [
      "C:\\Users\\SMest\\Anaconda3\\lib\\site-packages\\numpy\\_distributor_init.py:32: UserWarning: loaded more than 1 DLL from .libs:\n",
      "C:\\Users\\SMest\\Anaconda3\\lib\\site-packages\\numpy\\.libs\\libopenblas.NOIJJG62EMASZI6NYURL6JBKM4EVBGM7.gfortran-win_amd64.dll\n",
      "C:\\Users\\SMest\\Anaconda3\\lib\\site-packages\\numpy\\.libs\\libopenblas.PYQHXLVVQ7VESDPUVUADXEVJOBGHJPAY.gfortran-win_amd64.dll\n",
      "  stacklevel=1)\n",
      "In C:\\Users\\SMest\\Anaconda3\\lib\\site-packages\\matplotlib\\mpl-data\\stylelib\\_classic_test.mplstyle: \n",
      "The text.latex.preview rcparam was deprecated in Matplotlib 3.3 and will be removed two minor releases later.\n",
      "In C:\\Users\\SMest\\Anaconda3\\lib\\site-packages\\matplotlib\\mpl-data\\stylelib\\_classic_test.mplstyle: \n",
      "The mathtext.fallback_to_cm rcparam was deprecated in Matplotlib 3.3 and will be removed two minor releases later.\n",
      "In C:\\Users\\SMest\\Anaconda3\\lib\\site-packages\\matplotlib\\mpl-data\\stylelib\\_classic_test.mplstyle: Support for setting the 'mathtext.fallback_to_cm' rcParam is deprecated since 3.3 and will be removed two minor releases later; use 'mathtext.fallback : 'cm' instead.\n",
      "In C:\\Users\\SMest\\Anaconda3\\lib\\site-packages\\matplotlib\\mpl-data\\stylelib\\_classic_test.mplstyle: \n",
      "The validate_bool_maybe_none function was deprecated in Matplotlib 3.3 and will be removed two minor releases later.\n",
      "In C:\\Users\\SMest\\Anaconda3\\lib\\site-packages\\matplotlib\\mpl-data\\stylelib\\_classic_test.mplstyle: \n",
      "The savefig.jpeg_quality rcparam was deprecated in Matplotlib 3.3 and will be removed two minor releases later.\n",
      "In C:\\Users\\SMest\\Anaconda3\\lib\\site-packages\\matplotlib\\mpl-data\\stylelib\\_classic_test.mplstyle: \n",
      "The keymap.all_axes rcparam was deprecated in Matplotlib 3.3 and will be removed two minor releases later.\n",
      "In C:\\Users\\SMest\\Anaconda3\\lib\\site-packages\\matplotlib\\mpl-data\\stylelib\\_classic_test.mplstyle: \n",
      "The animation.avconv_path rcparam was deprecated in Matplotlib 3.3 and will be removed two minor releases later.\n",
      "In C:\\Users\\SMest\\Anaconda3\\lib\\site-packages\\matplotlib\\mpl-data\\stylelib\\_classic_test.mplstyle: \n",
      "The animation.avconv_args rcparam was deprecated in Matplotlib 3.3 and will be removed two minor releases later.\n"
     ]
    }
   ],
   "source": [
    "import numpy as np\n",
    "import pandas as pd\n",
    "import matplotlib.pyplot as plt\n",
    "import pyabf\n",
    "import ipfx\n",
    "from IPython.display import display, HTML"
   ]
  },
  {
   "cell_type": "code",
   "execution_count": 2,
   "metadata": {},
   "outputs": [],
   "source": [
    "abf = pyabf.ABF(\"data/example1.abf\") #this tells pyabf to load our data and store it in an abf object\n",
    "abf.setSweep(7)"
   ]
  },
  {
   "cell_type": "markdown",
   "metadata": {},
   "source": [
    "### Setting up our spike finder"
   ]
  },
  {
   "cell_type": "markdown",
   "metadata": {},
   "source": [
    "To begin with, we will import just the spike finder from IPFX."
   ]
  },
  {
   "cell_type": "code",
   "execution_count": 3,
   "metadata": {},
   "outputs": [],
   "source": [
    "from ipfx.feature_extractor import SpikeFeatureExtractor"
   ]
  },
  {
   "cell_type": "markdown",
   "metadata": {},
   "source": [
    "Now we will create our SpikeFeatureExtractor. To do so, we will create a object similar to our ABF object. We can pass our settings to the object, that way we will not have to specify the settings repeatedly. More on this later"
   ]
  },
  {
   "cell_type": "code",
   "execution_count": 4,
   "metadata": {},
   "outputs": [],
   "source": [
    "spike_fe = SpikeFeatureExtractor(filter=0) #Set the filter to 0"
   ]
  },
  {
   "cell_type": "markdown",
   "metadata": {},
   "source": [
    "The above command intializes the spike feature extractor. Similar to the abf object, this has many attributes we can access."
   ]
  },
  {
   "cell_type": "code",
   "execution_count": 5,
   "metadata": {},
   "outputs": [
    {
     "data": {
      "text/plain": [
       "['max_interval',\n",
       " 'min_height',\n",
       " 'min_peak',\n",
       " 'process',\n",
       " 'reject_at_stim_start_interval',\n",
       " 'spike_feature',\n",
       " 'spike_feature_keys',\n",
       " 'spikes',\n",
       " 'start',\n",
       " 'thresh_frac']"
      ]
     },
     "execution_count": 5,
     "metadata": {},
     "output_type": "execute_result"
    }
   ],
   "source": [
    "dir(spike_fe)[-10:]"
   ]
  },
  {
   "cell_type": "markdown",
   "metadata": {},
   "source": [
    "### Getting the Spikes"
   ]
  },
  {
   "cell_type": "markdown",
   "metadata": {},
   "source": [
    "To begin, we will use the `spike.process` function to find our data. This function takes our Time, Response, and Command waveforms as input."
   ]
  },
  {
   "cell_type": "code",
   "execution_count": 6,
   "metadata": {},
   "outputs": [
    {
     "name": "stderr",
     "output_type": "stream",
     "text": [
      "INFO:numexpr.utils:Note: NumExpr detected 16 cores but \"NUMEXPR_MAX_THREADS\" not set, so enforcing safe limit of 8.\n",
      "INFO:numexpr.utils:NumExpr defaulting to 8 threads.\n"
     ]
    }
   ],
   "source": [
    "spikes = spike_fe.process(abf.sweepX, abf.sweepY, abf.sweepC) #Processes that specific sweep from the ABF file"
   ]
  },
  {
   "cell_type": "markdown",
   "metadata": {},
   "source": [
    "This returns a pandas `dataframe` containing information for each spike detected. These dataframes are similar to excel spread sheets. Each row is a single spike, and each column is a feature of that spike (for example peak voltage). For more explicit definitions of the various columns I recommend checking out the [Allen Institutes Ephys Whitepaper](http://help.brain-map.org/display/celltypes/Documentation). We can take a peek:"
   ]
  },
  {
   "cell_type": "code",
   "execution_count": 7,
   "metadata": {},
   "outputs": [
    {
     "data": {
      "text/html": [
       "<div>\n",
       "<style scoped>\n",
       "    .dataframe tbody tr th:only-of-type {\n",
       "        vertical-align: middle;\n",
       "    }\n",
       "\n",
       "    .dataframe tbody tr th {\n",
       "        vertical-align: top;\n",
       "    }\n",
       "\n",
       "    .dataframe thead th {\n",
       "        text-align: right;\n",
       "    }\n",
       "</style>\n",
       "<table border=\"1\" class=\"dataframe\">\n",
       "  <thead>\n",
       "    <tr style=\"text-align: right;\">\n",
       "      <th></th>\n",
       "      <th>threshold_index</th>\n",
       "      <th>clipped</th>\n",
       "      <th>threshold_t</th>\n",
       "      <th>threshold_v</th>\n",
       "      <th>threshold_i</th>\n",
       "      <th>peak_index</th>\n",
       "      <th>peak_t</th>\n",
       "      <th>peak_v</th>\n",
       "      <th>peak_i</th>\n",
       "      <th>trough_index</th>\n",
       "      <th>...</th>\n",
       "      <th>adp_index</th>\n",
       "      <th>adp_t</th>\n",
       "      <th>adp_v</th>\n",
       "      <th>adp_i</th>\n",
       "      <th>slow_trough_index</th>\n",
       "      <th>slow_trough_t</th>\n",
       "      <th>slow_trough_v</th>\n",
       "      <th>slow_trough_i</th>\n",
       "      <th>width</th>\n",
       "      <th>upstroke_downstroke_ratio</th>\n",
       "    </tr>\n",
       "  </thead>\n",
       "  <tbody>\n",
       "    <tr>\n",
       "      <th>0</th>\n",
       "      <td>12159</td>\n",
       "      <td>False</td>\n",
       "      <td>0.60795</td>\n",
       "      <td>-37.750244</td>\n",
       "      <td>50.0</td>\n",
       "      <td>12171</td>\n",
       "      <td>0.60855</td>\n",
       "      <td>27.832031</td>\n",
       "      <td>50.0</td>\n",
       "      <td>12214</td>\n",
       "      <td>...</td>\n",
       "      <td>NaN</td>\n",
       "      <td>NaN</td>\n",
       "      <td>NaN</td>\n",
       "      <td>NaN</td>\n",
       "      <td>12214.0</td>\n",
       "      <td>0.61070</td>\n",
       "      <td>-55.786133</td>\n",
       "      <td>50.0</td>\n",
       "      <td>0.00065</td>\n",
       "      <td>2.026667</td>\n",
       "    </tr>\n",
       "    <tr>\n",
       "      <th>1</th>\n",
       "      <td>12594</td>\n",
       "      <td>False</td>\n",
       "      <td>0.62970</td>\n",
       "      <td>-33.416748</td>\n",
       "      <td>50.0</td>\n",
       "      <td>12609</td>\n",
       "      <td>0.63045</td>\n",
       "      <td>18.920898</td>\n",
       "      <td>50.0</td>\n",
       "      <td>12671</td>\n",
       "      <td>...</td>\n",
       "      <td>NaN</td>\n",
       "      <td>NaN</td>\n",
       "      <td>NaN</td>\n",
       "      <td>NaN</td>\n",
       "      <td>12671.0</td>\n",
       "      <td>0.63355</td>\n",
       "      <td>-50.323486</td>\n",
       "      <td>50.0</td>\n",
       "      <td>0.00100</td>\n",
       "      <td>1.828125</td>\n",
       "    </tr>\n",
       "    <tr>\n",
       "      <th>2</th>\n",
       "      <td>12984</td>\n",
       "      <td>False</td>\n",
       "      <td>0.64920</td>\n",
       "      <td>-32.196045</td>\n",
       "      <td>50.0</td>\n",
       "      <td>13003</td>\n",
       "      <td>0.65015</td>\n",
       "      <td>14.862061</td>\n",
       "      <td>50.0</td>\n",
       "      <td>13072</td>\n",
       "      <td>...</td>\n",
       "      <td>NaN</td>\n",
       "      <td>NaN</td>\n",
       "      <td>NaN</td>\n",
       "      <td>NaN</td>\n",
       "      <td>13072.0</td>\n",
       "      <td>0.65360</td>\n",
       "      <td>-47.973633</td>\n",
       "      <td>50.0</td>\n",
       "      <td>0.00135</td>\n",
       "      <td>1.733333</td>\n",
       "    </tr>\n",
       "    <tr>\n",
       "      <th>3</th>\n",
       "      <td>13419</td>\n",
       "      <td>False</td>\n",
       "      <td>0.67095</td>\n",
       "      <td>-30.487061</td>\n",
       "      <td>50.0</td>\n",
       "      <td>13441</td>\n",
       "      <td>0.67205</td>\n",
       "      <td>14.953613</td>\n",
       "      <td>50.0</td>\n",
       "      <td>13524</td>\n",
       "      <td>...</td>\n",
       "      <td>NaN</td>\n",
       "      <td>NaN</td>\n",
       "      <td>NaN</td>\n",
       "      <td>NaN</td>\n",
       "      <td>13524.0</td>\n",
       "      <td>0.67620</td>\n",
       "      <td>-46.783447</td>\n",
       "      <td>50.0</td>\n",
       "      <td>0.00165</td>\n",
       "      <td>1.584416</td>\n",
       "    </tr>\n",
       "    <tr>\n",
       "      <th>4</th>\n",
       "      <td>13903</td>\n",
       "      <td>False</td>\n",
       "      <td>0.69515</td>\n",
       "      <td>-29.266357</td>\n",
       "      <td>50.0</td>\n",
       "      <td>13928</td>\n",
       "      <td>0.69640</td>\n",
       "      <td>13.366699</td>\n",
       "      <td>50.0</td>\n",
       "      <td>14021</td>\n",
       "      <td>...</td>\n",
       "      <td>NaN</td>\n",
       "      <td>NaN</td>\n",
       "      <td>NaN</td>\n",
       "      <td>NaN</td>\n",
       "      <td>14021.0</td>\n",
       "      <td>0.70105</td>\n",
       "      <td>-47.302246</td>\n",
       "      <td>50.0</td>\n",
       "      <td>0.00185</td>\n",
       "      <td>1.360000</td>\n",
       "    </tr>\n",
       "    <tr>\n",
       "      <th>5</th>\n",
       "      <td>14425</td>\n",
       "      <td>False</td>\n",
       "      <td>0.72125</td>\n",
       "      <td>-29.541016</td>\n",
       "      <td>50.0</td>\n",
       "      <td>14452</td>\n",
       "      <td>0.72260</td>\n",
       "      <td>15.319824</td>\n",
       "      <td>50.0</td>\n",
       "      <td>14544</td>\n",
       "      <td>...</td>\n",
       "      <td>NaN</td>\n",
       "      <td>NaN</td>\n",
       "      <td>NaN</td>\n",
       "      <td>NaN</td>\n",
       "      <td>14544.0</td>\n",
       "      <td>0.72720</td>\n",
       "      <td>-47.851562</td>\n",
       "      <td>50.0</td>\n",
       "      <td>0.00185</td>\n",
       "      <td>1.378378</td>\n",
       "    </tr>\n",
       "    <tr>\n",
       "      <th>6</th>\n",
       "      <td>15025</td>\n",
       "      <td>False</td>\n",
       "      <td>0.75125</td>\n",
       "      <td>-28.442383</td>\n",
       "      <td>50.0</td>\n",
       "      <td>15053</td>\n",
       "      <td>0.75265</td>\n",
       "      <td>13.885498</td>\n",
       "      <td>50.0</td>\n",
       "      <td>15154</td>\n",
       "      <td>...</td>\n",
       "      <td>NaN</td>\n",
       "      <td>NaN</td>\n",
       "      <td>NaN</td>\n",
       "      <td>NaN</td>\n",
       "      <td>15154.0</td>\n",
       "      <td>0.75770</td>\n",
       "      <td>-48.431396</td>\n",
       "      <td>50.0</td>\n",
       "      <td>0.00205</td>\n",
       "      <td>1.250000</td>\n",
       "    </tr>\n",
       "    <tr>\n",
       "      <th>7</th>\n",
       "      <td>15629</td>\n",
       "      <td>False</td>\n",
       "      <td>0.78145</td>\n",
       "      <td>-28.167725</td>\n",
       "      <td>50.0</td>\n",
       "      <td>15653</td>\n",
       "      <td>0.78265</td>\n",
       "      <td>15.869141</td>\n",
       "      <td>50.0</td>\n",
       "      <td>15762</td>\n",
       "      <td>...</td>\n",
       "      <td>NaN</td>\n",
       "      <td>NaN</td>\n",
       "      <td>NaN</td>\n",
       "      <td>NaN</td>\n",
       "      <td>15762.0</td>\n",
       "      <td>0.78810</td>\n",
       "      <td>-47.882080</td>\n",
       "      <td>50.0</td>\n",
       "      <td>0.00185</td>\n",
       "      <td>1.351351</td>\n",
       "    </tr>\n",
       "    <tr>\n",
       "      <th>8</th>\n",
       "      <td>16253</td>\n",
       "      <td>False</td>\n",
       "      <td>0.81265</td>\n",
       "      <td>-29.479980</td>\n",
       "      <td>50.0</td>\n",
       "      <td>16279</td>\n",
       "      <td>0.81395</td>\n",
       "      <td>16.082764</td>\n",
       "      <td>50.0</td>\n",
       "      <td>16376</td>\n",
       "      <td>...</td>\n",
       "      <td>NaN</td>\n",
       "      <td>NaN</td>\n",
       "      <td>NaN</td>\n",
       "      <td>NaN</td>\n",
       "      <td>16376.0</td>\n",
       "      <td>0.81880</td>\n",
       "      <td>-47.546387</td>\n",
       "      <td>50.0</td>\n",
       "      <td>0.00190</td>\n",
       "      <td>1.544118</td>\n",
       "    </tr>\n",
       "    <tr>\n",
       "      <th>9</th>\n",
       "      <td>16889</td>\n",
       "      <td>False</td>\n",
       "      <td>0.84445</td>\n",
       "      <td>-29.174805</td>\n",
       "      <td>50.0</td>\n",
       "      <td>16916</td>\n",
       "      <td>0.84580</td>\n",
       "      <td>14.495850</td>\n",
       "      <td>50.0</td>\n",
       "      <td>17036</td>\n",
       "      <td>...</td>\n",
       "      <td>NaN</td>\n",
       "      <td>NaN</td>\n",
       "      <td>NaN</td>\n",
       "      <td>NaN</td>\n",
       "      <td>17036.0</td>\n",
       "      <td>0.85180</td>\n",
       "      <td>-47.882080</td>\n",
       "      <td>50.0</td>\n",
       "      <td>0.00205</td>\n",
       "      <td>1.362319</td>\n",
       "    </tr>\n",
       "    <tr>\n",
       "      <th>10</th>\n",
       "      <td>17596</td>\n",
       "      <td>False</td>\n",
       "      <td>0.87980</td>\n",
       "      <td>-29.388428</td>\n",
       "      <td>50.0</td>\n",
       "      <td>17624</td>\n",
       "      <td>0.88120</td>\n",
       "      <td>14.190674</td>\n",
       "      <td>50.0</td>\n",
       "      <td>17752</td>\n",
       "      <td>...</td>\n",
       "      <td>NaN</td>\n",
       "      <td>NaN</td>\n",
       "      <td>NaN</td>\n",
       "      <td>NaN</td>\n",
       "      <td>17752.0</td>\n",
       "      <td>0.88760</td>\n",
       "      <td>-46.539307</td>\n",
       "      <td>50.0</td>\n",
       "      <td>0.00205</td>\n",
       "      <td>1.375000</td>\n",
       "    </tr>\n",
       "    <tr>\n",
       "      <th>11</th>\n",
       "      <td>18320</td>\n",
       "      <td>False</td>\n",
       "      <td>0.91600</td>\n",
       "      <td>-29.510498</td>\n",
       "      <td>50.0</td>\n",
       "      <td>18348</td>\n",
       "      <td>0.91740</td>\n",
       "      <td>16.571045</td>\n",
       "      <td>50.0</td>\n",
       "      <td>18447</td>\n",
       "      <td>...</td>\n",
       "      <td>NaN</td>\n",
       "      <td>NaN</td>\n",
       "      <td>NaN</td>\n",
       "      <td>NaN</td>\n",
       "      <td>18447.0</td>\n",
       "      <td>0.92235</td>\n",
       "      <td>-47.882080</td>\n",
       "      <td>50.0</td>\n",
       "      <td>0.00195</td>\n",
       "      <td>1.304348</td>\n",
       "    </tr>\n",
       "    <tr>\n",
       "      <th>12</th>\n",
       "      <td>19073</td>\n",
       "      <td>False</td>\n",
       "      <td>0.95365</td>\n",
       "      <td>-28.686523</td>\n",
       "      <td>50.0</td>\n",
       "      <td>19099</td>\n",
       "      <td>0.95495</td>\n",
       "      <td>15.869141</td>\n",
       "      <td>50.0</td>\n",
       "      <td>19226</td>\n",
       "      <td>...</td>\n",
       "      <td>NaN</td>\n",
       "      <td>NaN</td>\n",
       "      <td>NaN</td>\n",
       "      <td>NaN</td>\n",
       "      <td>19226.0</td>\n",
       "      <td>0.96130</td>\n",
       "      <td>-47.210693</td>\n",
       "      <td>50.0</td>\n",
       "      <td>0.00200</td>\n",
       "      <td>1.319445</td>\n",
       "    </tr>\n",
       "    <tr>\n",
       "      <th>13</th>\n",
       "      <td>19825</td>\n",
       "      <td>False</td>\n",
       "      <td>0.99125</td>\n",
       "      <td>-28.442383</td>\n",
       "      <td>50.0</td>\n",
       "      <td>19855</td>\n",
       "      <td>0.99275</td>\n",
       "      <td>16.021729</td>\n",
       "      <td>50.0</td>\n",
       "      <td>19984</td>\n",
       "      <td>...</td>\n",
       "      <td>NaN</td>\n",
       "      <td>NaN</td>\n",
       "      <td>NaN</td>\n",
       "      <td>NaN</td>\n",
       "      <td>19984.0</td>\n",
       "      <td>0.99920</td>\n",
       "      <td>-48.217773</td>\n",
       "      <td>50.0</td>\n",
       "      <td>0.00210</td>\n",
       "      <td>1.197183</td>\n",
       "    </tr>\n",
       "    <tr>\n",
       "      <th>14</th>\n",
       "      <td>20628</td>\n",
       "      <td>False</td>\n",
       "      <td>1.03140</td>\n",
       "      <td>-28.015137</td>\n",
       "      <td>50.0</td>\n",
       "      <td>20657</td>\n",
       "      <td>1.03285</td>\n",
       "      <td>15.686035</td>\n",
       "      <td>50.0</td>\n",
       "      <td>20802</td>\n",
       "      <td>...</td>\n",
       "      <td>NaN</td>\n",
       "      <td>NaN</td>\n",
       "      <td>NaN</td>\n",
       "      <td>NaN</td>\n",
       "      <td>20802.0</td>\n",
       "      <td>1.04010</td>\n",
       "      <td>-47.485352</td>\n",
       "      <td>50.0</td>\n",
       "      <td>0.00210</td>\n",
       "      <td>1.269841</td>\n",
       "    </tr>\n",
       "    <tr>\n",
       "      <th>15</th>\n",
       "      <td>21393</td>\n",
       "      <td>False</td>\n",
       "      <td>1.06965</td>\n",
       "      <td>-29.083252</td>\n",
       "      <td>50.0</td>\n",
       "      <td>21421</td>\n",
       "      <td>1.07105</td>\n",
       "      <td>16.784668</td>\n",
       "      <td>50.0</td>\n",
       "      <td>21559</td>\n",
       "      <td>...</td>\n",
       "      <td>NaN</td>\n",
       "      <td>NaN</td>\n",
       "      <td>NaN</td>\n",
       "      <td>NaN</td>\n",
       "      <td>21559.0</td>\n",
       "      <td>1.07795</td>\n",
       "      <td>-48.370361</td>\n",
       "      <td>50.0</td>\n",
       "      <td>0.00210</td>\n",
       "      <td>1.358209</td>\n",
       "    </tr>\n",
       "    <tr>\n",
       "      <th>16</th>\n",
       "      <td>22095</td>\n",
       "      <td>False</td>\n",
       "      <td>1.10475</td>\n",
       "      <td>-28.625488</td>\n",
       "      <td>50.0</td>\n",
       "      <td>22120</td>\n",
       "      <td>1.10600</td>\n",
       "      <td>16.906738</td>\n",
       "      <td>50.0</td>\n",
       "      <td>22250</td>\n",
       "      <td>...</td>\n",
       "      <td>NaN</td>\n",
       "      <td>NaN</td>\n",
       "      <td>NaN</td>\n",
       "      <td>NaN</td>\n",
       "      <td>22250.0</td>\n",
       "      <td>1.11250</td>\n",
       "      <td>-46.417236</td>\n",
       "      <td>50.0</td>\n",
       "      <td>0.00200</td>\n",
       "      <td>1.575758</td>\n",
       "    </tr>\n",
       "    <tr>\n",
       "      <th>17</th>\n",
       "      <td>22840</td>\n",
       "      <td>False</td>\n",
       "      <td>1.14200</td>\n",
       "      <td>-30.029297</td>\n",
       "      <td>50.0</td>\n",
       "      <td>22870</td>\n",
       "      <td>1.14350</td>\n",
       "      <td>17.242432</td>\n",
       "      <td>50.0</td>\n",
       "      <td>22998</td>\n",
       "      <td>...</td>\n",
       "      <td>NaN</td>\n",
       "      <td>NaN</td>\n",
       "      <td>NaN</td>\n",
       "      <td>NaN</td>\n",
       "      <td>22998.0</td>\n",
       "      <td>1.14990</td>\n",
       "      <td>-49.102783</td>\n",
       "      <td>50.0</td>\n",
       "      <td>0.00210</td>\n",
       "      <td>1.277778</td>\n",
       "    </tr>\n",
       "    <tr>\n",
       "      <th>18</th>\n",
       "      <td>23567</td>\n",
       "      <td>False</td>\n",
       "      <td>1.17835</td>\n",
       "      <td>-29.602051</td>\n",
       "      <td>50.0</td>\n",
       "      <td>23596</td>\n",
       "      <td>1.17980</td>\n",
       "      <td>15.441895</td>\n",
       "      <td>50.0</td>\n",
       "      <td>23729</td>\n",
       "      <td>...</td>\n",
       "      <td>NaN</td>\n",
       "      <td>NaN</td>\n",
       "      <td>NaN</td>\n",
       "      <td>NaN</td>\n",
       "      <td>23729.0</td>\n",
       "      <td>1.18645</td>\n",
       "      <td>-47.515869</td>\n",
       "      <td>50.0</td>\n",
       "      <td>0.00215</td>\n",
       "      <td>1.507692</td>\n",
       "    </tr>\n",
       "    <tr>\n",
       "      <th>19</th>\n",
       "      <td>24286</td>\n",
       "      <td>False</td>\n",
       "      <td>1.21430</td>\n",
       "      <td>-29.968262</td>\n",
       "      <td>50.0</td>\n",
       "      <td>24317</td>\n",
       "      <td>1.21585</td>\n",
       "      <td>15.594482</td>\n",
       "      <td>50.0</td>\n",
       "      <td>24460</td>\n",
       "      <td>...</td>\n",
       "      <td>NaN</td>\n",
       "      <td>NaN</td>\n",
       "      <td>NaN</td>\n",
       "      <td>NaN</td>\n",
       "      <td>24460.0</td>\n",
       "      <td>1.22300</td>\n",
       "      <td>-47.668457</td>\n",
       "      <td>50.0</td>\n",
       "      <td>0.00210</td>\n",
       "      <td>1.444444</td>\n",
       "    </tr>\n",
       "    <tr>\n",
       "      <th>20</th>\n",
       "      <td>24936</td>\n",
       "      <td>False</td>\n",
       "      <td>1.24680</td>\n",
       "      <td>-29.876709</td>\n",
       "      <td>50.0</td>\n",
       "      <td>24966</td>\n",
       "      <td>1.24830</td>\n",
       "      <td>15.747070</td>\n",
       "      <td>50.0</td>\n",
       "      <td>44707</td>\n",
       "      <td>...</td>\n",
       "      <td>NaN</td>\n",
       "      <td>NaN</td>\n",
       "      <td>NaN</td>\n",
       "      <td>NaN</td>\n",
       "      <td>NaN</td>\n",
       "      <td>NaN</td>\n",
       "      <td>NaN</td>\n",
       "      <td>NaN</td>\n",
       "      <td>0.00215</td>\n",
       "      <td>1.550000</td>\n",
       "    </tr>\n",
       "  </tbody>\n",
       "</table>\n",
       "<p>21 rows × 36 columns</p>\n",
       "</div>"
      ],
      "text/plain": [
       "    threshold_index  clipped  threshold_t  threshold_v  threshold_i  \\\n",
       "0             12159    False      0.60795   -37.750244         50.0   \n",
       "1             12594    False      0.62970   -33.416748         50.0   \n",
       "2             12984    False      0.64920   -32.196045         50.0   \n",
       "3             13419    False      0.67095   -30.487061         50.0   \n",
       "4             13903    False      0.69515   -29.266357         50.0   \n",
       "5             14425    False      0.72125   -29.541016         50.0   \n",
       "6             15025    False      0.75125   -28.442383         50.0   \n",
       "7             15629    False      0.78145   -28.167725         50.0   \n",
       "8             16253    False      0.81265   -29.479980         50.0   \n",
       "9             16889    False      0.84445   -29.174805         50.0   \n",
       "10            17596    False      0.87980   -29.388428         50.0   \n",
       "11            18320    False      0.91600   -29.510498         50.0   \n",
       "12            19073    False      0.95365   -28.686523         50.0   \n",
       "13            19825    False      0.99125   -28.442383         50.0   \n",
       "14            20628    False      1.03140   -28.015137         50.0   \n",
       "15            21393    False      1.06965   -29.083252         50.0   \n",
       "16            22095    False      1.10475   -28.625488         50.0   \n",
       "17            22840    False      1.14200   -30.029297         50.0   \n",
       "18            23567    False      1.17835   -29.602051         50.0   \n",
       "19            24286    False      1.21430   -29.968262         50.0   \n",
       "20            24936    False      1.24680   -29.876709         50.0   \n",
       "\n",
       "    peak_index   peak_t     peak_v  peak_i  trough_index  ...  adp_index  \\\n",
       "0        12171  0.60855  27.832031    50.0         12214  ...        NaN   \n",
       "1        12609  0.63045  18.920898    50.0         12671  ...        NaN   \n",
       "2        13003  0.65015  14.862061    50.0         13072  ...        NaN   \n",
       "3        13441  0.67205  14.953613    50.0         13524  ...        NaN   \n",
       "4        13928  0.69640  13.366699    50.0         14021  ...        NaN   \n",
       "5        14452  0.72260  15.319824    50.0         14544  ...        NaN   \n",
       "6        15053  0.75265  13.885498    50.0         15154  ...        NaN   \n",
       "7        15653  0.78265  15.869141    50.0         15762  ...        NaN   \n",
       "8        16279  0.81395  16.082764    50.0         16376  ...        NaN   \n",
       "9        16916  0.84580  14.495850    50.0         17036  ...        NaN   \n",
       "10       17624  0.88120  14.190674    50.0         17752  ...        NaN   \n",
       "11       18348  0.91740  16.571045    50.0         18447  ...        NaN   \n",
       "12       19099  0.95495  15.869141    50.0         19226  ...        NaN   \n",
       "13       19855  0.99275  16.021729    50.0         19984  ...        NaN   \n",
       "14       20657  1.03285  15.686035    50.0         20802  ...        NaN   \n",
       "15       21421  1.07105  16.784668    50.0         21559  ...        NaN   \n",
       "16       22120  1.10600  16.906738    50.0         22250  ...        NaN   \n",
       "17       22870  1.14350  17.242432    50.0         22998  ...        NaN   \n",
       "18       23596  1.17980  15.441895    50.0         23729  ...        NaN   \n",
       "19       24317  1.21585  15.594482    50.0         24460  ...        NaN   \n",
       "20       24966  1.24830  15.747070    50.0         44707  ...        NaN   \n",
       "\n",
       "    adp_t  adp_v  adp_i  slow_trough_index  slow_trough_t  slow_trough_v  \\\n",
       "0     NaN    NaN    NaN            12214.0        0.61070     -55.786133   \n",
       "1     NaN    NaN    NaN            12671.0        0.63355     -50.323486   \n",
       "2     NaN    NaN    NaN            13072.0        0.65360     -47.973633   \n",
       "3     NaN    NaN    NaN            13524.0        0.67620     -46.783447   \n",
       "4     NaN    NaN    NaN            14021.0        0.70105     -47.302246   \n",
       "5     NaN    NaN    NaN            14544.0        0.72720     -47.851562   \n",
       "6     NaN    NaN    NaN            15154.0        0.75770     -48.431396   \n",
       "7     NaN    NaN    NaN            15762.0        0.78810     -47.882080   \n",
       "8     NaN    NaN    NaN            16376.0        0.81880     -47.546387   \n",
       "9     NaN    NaN    NaN            17036.0        0.85180     -47.882080   \n",
       "10    NaN    NaN    NaN            17752.0        0.88760     -46.539307   \n",
       "11    NaN    NaN    NaN            18447.0        0.92235     -47.882080   \n",
       "12    NaN    NaN    NaN            19226.0        0.96130     -47.210693   \n",
       "13    NaN    NaN    NaN            19984.0        0.99920     -48.217773   \n",
       "14    NaN    NaN    NaN            20802.0        1.04010     -47.485352   \n",
       "15    NaN    NaN    NaN            21559.0        1.07795     -48.370361   \n",
       "16    NaN    NaN    NaN            22250.0        1.11250     -46.417236   \n",
       "17    NaN    NaN    NaN            22998.0        1.14990     -49.102783   \n",
       "18    NaN    NaN    NaN            23729.0        1.18645     -47.515869   \n",
       "19    NaN    NaN    NaN            24460.0        1.22300     -47.668457   \n",
       "20    NaN    NaN    NaN                NaN            NaN            NaN   \n",
       "\n",
       "    slow_trough_i    width  upstroke_downstroke_ratio  \n",
       "0            50.0  0.00065                   2.026667  \n",
       "1            50.0  0.00100                   1.828125  \n",
       "2            50.0  0.00135                   1.733333  \n",
       "3            50.0  0.00165                   1.584416  \n",
       "4            50.0  0.00185                   1.360000  \n",
       "5            50.0  0.00185                   1.378378  \n",
       "6            50.0  0.00205                   1.250000  \n",
       "7            50.0  0.00185                   1.351351  \n",
       "8            50.0  0.00190                   1.544118  \n",
       "9            50.0  0.00205                   1.362319  \n",
       "10           50.0  0.00205                   1.375000  \n",
       "11           50.0  0.00195                   1.304348  \n",
       "12           50.0  0.00200                   1.319445  \n",
       "13           50.0  0.00210                   1.197183  \n",
       "14           50.0  0.00210                   1.269841  \n",
       "15           50.0  0.00210                   1.358209  \n",
       "16           50.0  0.00200                   1.575758  \n",
       "17           50.0  0.00210                   1.277778  \n",
       "18           50.0  0.00215                   1.507692  \n",
       "19           50.0  0.00210                   1.444444  \n",
       "20            NaN  0.00215                   1.550000  \n",
       "\n",
       "[21 rows x 36 columns]"
      ]
     },
     "metadata": {},
     "output_type": "display_data"
    }
   ],
   "source": [
    "display(spikes)"
   ]
  },
  {
   "cell_type": "markdown",
   "metadata": {},
   "source": [
    "We can also visualize the detected spikes on a plot:"
   ]
  },
  {
   "cell_type": "code",
   "execution_count": 8,
   "metadata": {},
   "outputs": [
    {
     "data": {
      "text/plain": [
       "(0.55, 1.5)"
      ]
     },
     "execution_count": 8,
     "metadata": {},
     "output_type": "execute_result"
    },
    {
     "data": {
      "image/png": "[encoded data removed]",
      "text/plain": [
       "<Figure size 432x288 with 1 Axes>"
      ]
     },
     "metadata": {
      "needs_background": "light"
     },
     "output_type": "display_data"
    }
   ],
   "source": [
    "#isolate the columns for plotting\n",
    "spike_times = spikes['peak_t'] #This isolates the peak_t columm\n",
    "spike_peak = spikes['peak_v'] #this isolates the peak_v column\n",
    "sweepX = abf.sweepX\n",
    "sweepY = abf.sweepY\n",
    "sweepC = abf.sweepC\n",
    "#Create a figure\n",
    "plt.figure(1)\n",
    "plt.plot(sweepX, sweepY)\n",
    "plt.scatter(spike_times, spike_peak, c='r', marker='x') #Plots X's at the peak of the action potential\n",
    "plt.xlabel(\"Time (s)\")\n",
    "plt.ylabel(abf.sweepLabelY) #\n",
    "plt.xlim(0.55, 1.5)"
   ]
  },
  {
   "cell_type": "markdown",
   "metadata": {},
   "source": [
    "The [pandas dataframe](https://pandas.pydata.org/pandas-docs/stable/reference/frame.html) contains a number of useful functions for analysis. For example we can take the mean of a column"
   ]
  },
  {
   "cell_type": "code",
   "execution_count": 9,
   "metadata": {},
   "outputs": [
    {
     "name": "stdout",
     "output_type": "stream",
     "text": [
      "Found a mean trough of -44.91751480102539\n"
     ]
    }
   ],
   "source": [
    "mean_trough = spikes['fast_trough_v'].mean()\n",
    "print(f\"Found a mean trough of {mean_trough}\")"
   ]
  },
  {
   "cell_type": "markdown",
   "metadata": {},
   "source": [
    "In addition we can save the dataframe for opening later:"
   ]
  },
  {
   "cell_type": "code",
   "execution_count": 10,
   "metadata": {},
   "outputs": [],
   "source": [
    "spikes.to_csv(\"out.csv\") #Outputs the dataframe to a csv for opening in excel\n",
    "#The \"out.csv\" specifies the file location/name"
   ]
  },
  {
   "cell_type": "markdown",
   "metadata": {},
   "source": [
    "### Ensuring you captures the spikes"
   ]
  },
  {
   "cell_type": "markdown",
   "metadata": {},
   "source": [
    "The above example uses the default spike finding options. This is suitable for many applications. However, one may find that this over/under detects spikes in your data. Take for example, the spikes found in one of the latter sweeps:"
   ]
  },
  {
   "cell_type": "code",
   "execution_count": 11,
   "metadata": {},
   "outputs": [],
   "source": [
    "abf.setSweep(14)\n",
    "spikes = spike_fe.process(abf.sweepX, abf.sweepY, abf.sweepC)"
   ]
  },
  {
   "cell_type": "code",
   "execution_count": 12,
   "metadata": {},
   "outputs": [
    {
     "data": {
      "text/plain": [
       "(0.55, 1.5)"
      ]
     },
     "execution_count": 12,
     "metadata": {},
     "output_type": "execute_result"
    },
    {
     "data": {
      "image/png": "[encoded data removed]",
      "text/plain": [
       "<Figure size 432x288 with 1 Axes>"
      ]
     },
     "metadata": {
      "needs_background": "light"
     },
     "output_type": "display_data"
    }
   ],
   "source": [
    "#isolate the columns for plotting\n",
    "spike_times = spikes['peak_t'] #This isolates the peak_t columm\n",
    "spike_peak = spikes['peak_v'] #this isolates the peak_v column\n",
    "sweepX = abf.sweepX\n",
    "sweepY = abf.sweepY\n",
    "sweepC = abf.sweepC\n",
    "#Create a figure\n",
    "plt.figure(1)\n",
    "plt.plot(sweepX, sweepY)\n",
    "plt.scatter(spike_times, spike_peak, c='r', marker='x') #Plots X's at the peak of the action potential\n",
    "plt.xlabel(\"Time (s)\")\n",
    "plt.ylabel(abf.sweepLabelY) #\n",
    "plt.xlim(0.55, 1.5)"
   ]
  },
  {
   "cell_type": "markdown",
   "metadata": {},
   "source": [
    "It still catches most of the spikes, however, it misses one or two spikes at the end of the train that you may want to pick up. To ensure we pick up these spikes, we can adjust a few parameters available to us. We can view the available options here:"
   ]
  },
  {
   "cell_type": "code",
   "execution_count": 13,
   "metadata": {},
   "outputs": [
    {
     "name": "stdout",
     "output_type": "stream",
     "text": [
      "Help on SpikeFeatureExtractor in module ipfx.feature_extractor object:\n",
      "\n",
      "class SpikeFeatureExtractor(builtins.object)\n",
      " |  SpikeFeatureExtractor(start=None, end=None, filter=10.0, dv_cutoff=20.0, max_interval=0.005, min_height=2.0, min_peak=-30.0, thresh_frac=0.05, reject_at_stim_start_interval=0)\n",
      " |  \n",
      " |  Methods defined here:\n",
      " |  \n",
      " |  __init__(self, start=None, end=None, filter=10.0, dv_cutoff=20.0, max_interval=0.005, min_height=2.0, min_peak=-30.0, thresh_frac=0.05, reject_at_stim_start_interval=0)\n",
      " |      Initialize SweepFeatures object.-\n",
      " |      \n",
      " |      Parameters\n",
      " |      ----------\n",
      " |      t : ndarray of times (seconds)\n",
      " |      v : ndarray of voltages (mV)\n",
      " |      i : ndarray of currents (pA)\n",
      " |      start : start of time window for feature analysis (optional)\n",
      " |      end : end of time window for feature analysis (optional)\n",
      " |      filter : cutoff frequency for 4-pole low-pass Bessel filter in kHz (optional, default 10)\n",
      " |      dv_cutoff : minimum dV/dt to qualify as a spike in V/s (optional, default 20)\n",
      " |      max_interval : maximum acceptable time between start of spike and time of peak in sec (optional, default 0.005)\n",
      " |      min_height : minimum acceptable height from threshold to peak in mV (optional, default 2)\n",
      " |      min_peak : minimum acceptable absolute peak level in mV (optional, default -30)\n",
      " |      thresh_frac : fraction of average upstroke for threshold calculation (optional, default 0.05)\n",
      " |      reject_at_stim_start_interval : duration of window after start to reject potential spikes (optional, default 0)\n",
      " |  \n",
      " |  is_spike_feature_affected_by_clipping(self, key)\n",
      " |  \n",
      " |  process(self, t, v, i)\n",
      " |  \n",
      " |  spike_feature(self, spikes_df, key, include_clipped=False, force_exclude_clipped=False)\n",
      " |      Get specified feature for every spike.\n",
      " |      \n",
      " |      Parameters\n",
      " |      ----------\n",
      " |      key : feature name\n",
      " |      include_clipped: return values for every identified spike, even when clipping means they will be incorrect/undefined\n",
      " |      \n",
      " |      Returns\n",
      " |      -------\n",
      " |      spike_feature_values : ndarray of features for each spike\n",
      " |  \n",
      " |  spike_feature_keys(self, spikes_df)\n",
      " |      Get list of every available spike feature.\n",
      " |  \n",
      " |  spikes(self, spikes_df)\n",
      " |      Get all features for each spike as a list of records.\n",
      " |  \n",
      " |  ----------------------------------------------------------------------\n",
      " |  Data descriptors defined here:\n",
      " |  \n",
      " |  __dict__\n",
      " |      dictionary for instance variables (if defined)\n",
      " |  \n",
      " |  __weakref__\n",
      " |      list of weak references to the object (if defined)\n",
      " |  \n",
      " |  ----------------------------------------------------------------------\n",
      " |  Data and other attributes defined here:\n",
      " |  \n",
      " |  AFFECTED_BY_CLIPPING = ['trough_t', 'trough_v', 'trough_i', 'trough_in...\n",
      "\n"
     ]
    }
   ],
   "source": [
    "help(spike_fe)"
   ]
  },
  {
   "cell_type": "markdown",
   "metadata": {},
   "source": [
    " First, we will take a look at the dv/dt threshold!"
   ]
  },
  {
   "cell_type": "markdown",
   "metadata": {},
   "source": [
    "####  dv_cutoff: dV/dT threshold"
   ]
  },
  {
   "cell_type": "markdown",
   "metadata": {},
   "source": [
    "The dV/dT threshold is the primary method by which ipfx detects spikes. Putative spikes must pass this check prior to any other settings being applied. By default, ipfx looks for points at which the dV/dT crosses 20mV/mS (V/s) (based on the ephys whitepaper noted above). if we examine the dV/dt of our trace, we can see that the smaller spikes do not reach this threshold"
   ]
  },
  {
   "cell_type": "code",
   "execution_count": 14,
   "metadata": {},
   "outputs": [
    {
     "data": {
      "text/plain": [
       "<matplotlib.legend.Legend at 0x2a9e66cfa58>"
      ]
     },
     "execution_count": 14,
     "metadata": {},
     "output_type": "execute_result"
    },
    {
     "data": {
      "image/png": "[encoded data removed]",
      "text/plain": [
       "<Figure size 432x288 with 1 Axes>"
      ]
     },
     "metadata": {
      "needs_background": "light"
     },
     "output_type": "display_data"
    }
   ],
   "source": [
    "dV = np.diff(abf.sweepY) #take the difference of the adjacent points in mV\n",
    "dT = np.diff(abf.sweepX * 1000) #take the difference of adjacent points in s * 1000 -> ms\n",
    "dvdt = dV/dT #compute dvdt in mV/ms -> v/s\n",
    "plt.plot(abf.sweepX[:-1], dvdt)\n",
    "plt.xlim(0.55, 0.8)\n",
    "plt.axhline(20, label='20mV/ms', c='r') #plot a horizontal line at 20mV/ms\n",
    "plt.axhline(10, label='10mV/ms', c='g') #plot a horizontal line at 20mV/ms\n",
    "plt.legend()"
   ]
  },
  {
   "cell_type": "markdown",
   "metadata": {},
   "source": [
    "However, it appears that setting a threshold of 10mV/ms should do the trick! Now we will reinitialize the spike finder with the new threshold"
   ]
  },
  {
   "cell_type": "code",
   "execution_count": 15,
   "metadata": {},
   "outputs": [],
   "source": [
    "spike_fe = SpikeFeatureExtractor(filter=0, dv_cutoff=10) #reintialize with a dv threshold of 10\n",
    "spikes = spike_fe.process(abf.sweepX, abf.sweepY, abf.sweepC)"
   ]
  },
  {
   "cell_type": "code",
   "execution_count": 16,
   "metadata": {},
   "outputs": [
    {
     "data": {
      "text/plain": [
       "(0.55, 1.5)"
      ]
     },
     "execution_count": 16,
     "metadata": {},
     "output_type": "execute_result"
    },
    {
     "data": {
      "image/png": "[encoded data removed]",
      "text/plain": [
       "<Figure size 432x288 with 1 Axes>"
      ]
     },
     "metadata": {
      "needs_background": "light"
     },
     "output_type": "display_data"
    }
   ],
   "source": [
    "#isolate the columns for plotting\n",
    "spike_times = spikes['peak_t'] #This isolates the peak_t columm\n",
    "spike_peak = spikes['peak_v'] #this isolates the peak_v column\n",
    "sweepX = abf.sweepX\n",
    "sweepY = abf.sweepY\n",
    "sweepC = abf.sweepC\n",
    "#Create a figure\n",
    "plt.figure(1)\n",
    "plt.plot(sweepX, sweepY)\n",
    "plt.scatter(spike_times, spike_peak, c='r', marker='x') #Plots X's at the peak of the action potential\n",
    "plt.xlabel(\"Time (s)\")\n",
    "plt.ylabel(abf.sweepLabelY) #\n",
    "plt.xlim(0.55, 1.5)"
   ]
  },
  {
   "cell_type": "markdown",
   "metadata": {},
   "source": [
    "Its looking good! However, lets say we decided to exclude the final spike in the train, we can adjust some of the other parameters to do so. "
   ]
  },
  {
   "cell_type": "markdown",
   "metadata": {},
   "source": [
    "#### max_interval: Time between threshold and peak"
   ]
  },
  {
   "cell_type": "markdown",
   "metadata": {},
   "source": [
    "Max interval defines the maximum length of time between the detected threshold and the detected peak. In many cases the default (5ms) should be fine. However, if you have slow or oddly shaped spikes, you may find adjusting this parameter useful. Take for example our threshold to peak time from our last sweep."
   ]
  },
  {
   "cell_type": "code",
   "execution_count": 17,
   "metadata": {},
   "outputs": [
    {
     "name": "stdout",
     "output_type": "stream",
     "text": [
      "Threshold to peak time of 1.6499999999999293ms\n"
     ]
    }
   ],
   "source": [
    "#isolate the columns for plotting\n",
    "spike_times = spikes['peak_t'] #This isolates the peak_t columm\n",
    "spike_peak = spikes['peak_v'] #this isolates the peak_v column\n",
    "final_spike = spikes['peak_t'].to_numpy()[-1] #Gets the time of the last peak\n",
    "final_threshold = spikes['threshold_t'].to_numpy()[-1] #gets the last threshgold\n",
    "time = final_spike - final_threshold\n",
    "print(f\"Threshold to peak time of {time*1000}ms\")"
   ]
  },
  {
   "cell_type": "code",
   "execution_count": 52,
   "metadata": {},
   "outputs": [
    {
     "data": {
      "text/plain": [
       "(-30.0, 0.0)"
      ]
     },
     "execution_count": 52,
     "metadata": {},
     "output_type": "execute_result"
    },
    {
     "data": {
      "image/png": "[encoded data removed]",
      "text/plain": [
       "<Figure size 432x288 with 1 Axes>"
      ]
     },
     "metadata": {
      "needs_background": "light"
     },
     "output_type": "display_data"
    }
   ],
   "source": [
    "sweepX = abf.sweepX\n",
    "sweepY = abf.sweepY\n",
    "sweepC = abf.sweepC\n",
    "#Create a figure\n",
    "plt.figure(1)\n",
    "plt.plot(sweepX, sweepY)\n",
    "plt.scatter(spike_times, spike_peak, c='r', marker='x') #Plots X's at the peak of the action potential\n",
    "plt.plot(np.linspace(final_threshold, final_spike, 10), np.full(10, -20), label=\"threshold to peak\")\n",
    "plt.xlabel(\"Time (s)\")\n",
    "plt.legend()\n",
    "plt.ylabel(abf.sweepLabelY) #\n",
    "plt.xlim(0.72, 0.74)\n",
    "plt.ylim(-30, 0)"
   ]
  },
  {
   "cell_type": "markdown",
   "metadata": {},
   "source": [
    "By specifying the threshold-to-peak time we can drop this spike"
   ]
  },
  {
   "cell_type": "code",
   "execution_count": 53,
   "metadata": {},
   "outputs": [
    {
     "name": "stderr",
     "output_type": "stream",
     "text": [
      "INFO:root:Need to recalculate threshold-peak pair that exceeds maximum allowed interval (0.001640 s)\n",
      "INFO:root:Need to recalculate threshold-peak pair that exceeds maximum allowed interval (0.001640 s)\n",
      "INFO:root:Need to recalculate threshold-peak pair that exceeds maximum allowed interval (0.001640 s)\n",
      "INFO:root:Need to recalculate threshold-peak pair that exceeds maximum allowed interval (0.001640 s)\n",
      "INFO:root:Need to recalculate threshold-peak pair that exceeds maximum allowed interval (0.001640 s)\n",
      "INFO:root:Need to recalculate threshold-peak pair that exceeds maximum allowed interval (0.001640 s)\n",
      "INFO:root:Need to recalculate threshold-peak pair that exceeds maximum allowed interval (0.001640 s)\n",
      "INFO:root:Could not redetermine threshold-peak pair - dropping that pair\n",
      "INFO:root:Could not redetermine threshold-peak pair - dropping that pair\n",
      "INFO:root:Could not redetermine threshold-peak pair - dropping that pair\n",
      "INFO:root:Could not redetermine threshold-peak pair - dropping that pair\n",
      "INFO:root:Could not redetermine threshold-peak pair - dropping that pair\n",
      "INFO:root:Could not redetermine threshold-peak pair - dropping that pair\n",
      "INFO:root:Could not redetermine threshold-peak pair - dropping that pair\n"
     ]
    }
   ],
   "source": [
    "spike_fe = SpikeFeatureExtractor(filter=0, dv_cutoff=10, max_interval=0.00164) #Note that the units are in seconds\n",
    "spikes = spike_fe.process(abf.sweepX, abf.sweepY, abf.sweepC)"
   ]
  },
  {
   "cell_type": "code",
   "execution_count": 54,
   "metadata": {},
   "outputs": [
    {
     "data": {
      "text/plain": [
       "(0.55, 1.5)"
      ]
     },
     "execution_count": 54,
     "metadata": {},
     "output_type": "execute_result"
    },
    {
     "data": {
      "image/png": "[encoded data removed]",
      "text/plain": [
       "<Figure size 432x288 with 1 Axes>"
      ]
     },
     "metadata": {
      "needs_background": "light"
     },
     "output_type": "display_data"
    }
   ],
   "source": [
    "#isolate the columns for plotting\n",
    "spike_times = spikes['peak_t'] #This isolates the peak_t columm\n",
    "spike_peak = spikes['peak_v'] #this isolates the peak_v column\n",
    "sweepX = abf.sweepX\n",
    "sweepY = abf.sweepY\n",
    "sweepC = abf.sweepC\n",
    "#Create a figure\n",
    "plt.figure(1)\n",
    "plt.plot(sweepX, sweepY)\n",
    "plt.scatter(spike_times, spike_peak, c='r', marker='x') #Plots X's at the peak of the action potential\n",
    "plt.xlabel(\"Time (s)\")\n",
    "plt.ylabel(abf.sweepLabelY) #\n",
    "plt.xlim(0.55, 1.5)"
   ]
  },
  {
   "cell_type": "markdown",
   "metadata": {},
   "source": [
    "Note that while we dropped that final spike, we lost other spikes! To remedy this, we can try adjusting the minimum height instead!"
   ]
  },
  {
   "cell_type": "markdown",
   "metadata": {},
   "source": [
    "#### min_height: the minimum height between threshold and peak"
   ]
  },
  {
   "cell_type": "markdown",
   "metadata": {},
   "source": [
    "The min height parameter defines the cutoff for the minimum amount of voltage an action potential must swing upward. This is computed as the difference between the peak and threshold. Therefore we will want to enter an absolute (non-negative) value. AP's with a height below this value will be rejected. This value defaults of 2mV."
   ]
  },
  {
   "cell_type": "code",
   "execution_count": 55,
   "metadata": {},
   "outputs": [],
   "source": [
    "spike_fe = SpikeFeatureExtractor(filter=0, dv_cutoff=10, min_height=5) #reintialize with a min height of 5\n",
    "spikes = spike_fe.process(abf.sweepX, abf.sweepY, abf.sweepC)"
   ]
  },
  {
   "cell_type": "code",
   "execution_count": 56,
   "metadata": {},
   "outputs": [
    {
     "data": {
      "text/plain": [
       "(0.55, 1.5)"
      ]
     },
     "execution_count": 56,
     "metadata": {},
     "output_type": "execute_result"
    },
    {
     "data": {
      "image/png": "[encoded data removed]",
      "text/plain": [
       "<Figure size 432x288 with 1 Axes>"
      ]
     },
     "metadata": {
      "needs_background": "light"
     },
     "output_type": "display_data"
    }
   ],
   "source": [
    "#isolate the columns for plotting\n",
    "spike_times = spikes['peak_t'] #This isolates the peak_t columm\n",
    "spike_peak = spikes['peak_v'] #this isolates the peak_v column\n",
    "sweepX = abf.sweepX\n",
    "sweepY = abf.sweepY\n",
    "sweepC = abf.sweepC\n",
    "#Create a figure\n",
    "plt.figure(1)\n",
    "plt.plot(sweepX, sweepY)\n",
    "plt.scatter(spike_times, spike_peak, c='r', marker='x') #Plots X's at the peak of the action potential\n",
    "plt.xlabel(\"Time (s)\")\n",
    "plt.ylabel(abf.sweepLabelY) #\n",
    "plt.xlim(0.55, 1.5)"
   ]
  },
  {
   "cell_type": "markdown",
   "metadata": {},
   "source": [
    "We can see that we have successfully excluded the last spike. If we examine closer we can examine the heights of the action potentials"
   ]
  },
  {
   "cell_type": "code",
   "execution_count": 57,
   "metadata": {},
   "outputs": [],
   "source": [
    "spike_fe = SpikeFeatureExtractor(filter=0, dv_cutoff=10) #reintialize with a min height of 5\n",
    "spikes = spike_fe.process(abf.sweepX, abf.sweepY, abf.sweepC)"
   ]
  },
  {
   "cell_type": "code",
   "execution_count": 61,
   "metadata": {},
   "outputs": [],
   "source": [
    "#isolate the columns for plotting\n",
    "spike_times = spikes['peak_t'] #This isolates the peak_t columm\n",
    "spike_peak = spikes['peak_v'] #this isolates the peak_v column\n",
    "final_spike = spikes['peak_v'].to_numpy()[-1] #Gets the time of the last peak\n",
    "final_threshold = spikes['threshold_v'].to_numpy()[-1] #gets the last threshgold\n",
    "height = final_spike - final_threshold\n"
   ]
  },
  {
   "cell_type": "code",
   "execution_count": 62,
   "metadata": {},
   "outputs": [
    {
     "data": {
      "text/plain": [
       "(-30.0, 0.0)"
      ]
     },
     "execution_count": 62,
     "metadata": {},
     "output_type": "execute_result"
    },
    {
     "data": {
      "image/png": "[encoded data removed]",
      "text/plain": [
       "<Figure size 432x288 with 1 Axes>"
      ]
     },
     "metadata": {
      "needs_background": "light"
     },
     "output_type": "display_data"
    }
   ],
   "source": [
    "sweepX = abf.sweepX\n",
    "sweepY = abf.sweepY\n",
    "sweepC = abf.sweepC\n",
    "#Create a figure\n",
    "plt.figure(1)\n",
    "plt.plot(sweepX, sweepY)\n",
    "plt.scatter(spike_times, spike_peak, c='r', marker='x') #Plots X's at the peak of the action potential\n",
    "plt.plot(np.full(10, spike_times.to_numpy()[-1]),np.linspace(final_threshold, final_spike, 10), label=\"threshold to peak\")\n",
    "plt.xlabel(\"Time (s)\")\n",
    "plt.legend\n",
    "plt.ylabel(abf.sweepLabelY) #\n",
    "plt.xlim(0.72, 0.74)\n",
    "plt.ylim(-30, 0)"
   ]
  },
  {
   "cell_type": "markdown",
   "metadata": {},
   "source": [
    "#### min_peak: the minimum absolute peak of the action potential"
   ]
  },
  {
   "cell_type": "markdown",
   "metadata": {},
   "source": [
    "Similar to the setting above, we can set the cutoff for the min peak of the action potential. However, this value is not calculated in reference to the threshold, instead, it is computed as the minimum the peak must reach (regardless of distance between peak and threshold). Therefore, its okay to use negative numbers for this setting. Action potentials with peaks that do not reach this level will be rejected. This value defaults to -30"
   ]
  },
  {
   "cell_type": "code",
   "execution_count": 63,
   "metadata": {},
   "outputs": [],
   "source": [
    "spike_fe = SpikeFeatureExtractor(filter=0, dv_cutoff=10, min_peak=-10) #reintialize with a min peak 10\n",
    "spikes = spike_fe.process(abf.sweepX, abf.sweepY, abf.sweepC)"
   ]
  },
  {
   "cell_type": "code",
   "execution_count": 65,
   "metadata": {},
   "outputs": [
    {
     "data": {
      "text/plain": [
       "(0.55, 1.5)"
      ]
     },
     "execution_count": 65,
     "metadata": {},
     "output_type": "execute_result"
    },
    {
     "data": {
      "image/png": "[encoded data removed]",
      "text/plain": [
       "<Figure size 432x288 with 1 Axes>"
      ]
     },
     "metadata": {
      "needs_background": "light"
     },
     "output_type": "display_data"
    }
   ],
   "source": [
    "#isolate the columns for plotting\n",
    "spike_times = spikes['peak_t'] #This isolates the peak_t columm\n",
    "spike_peak = spikes['peak_v'] #this isolates the peak_v column\n",
    "sweepX = abf.sweepX\n",
    "sweepY = abf.sweepY\n",
    "sweepC = abf.sweepC\n",
    "#Create a figure\n",
    "plt.figure(1)\n",
    "plt.plot(sweepX, sweepY)\n",
    "plt.scatter(spike_times, spike_peak, c='r', marker='x') #Plots X's at the peak of the action potential\n",
    "plt.xlabel(\"Time (s)\")\n",
    "plt.axhline(-10, label=\"min_peak threshold of -10\")\n",
    "plt.ylabel(abf.sweepLabelY) \n",
    "plt.xlim(0.55, 1.5)"
   ]
  },
  {
   "cell_type": "markdown",
   "metadata": {},
   "source": [
    "zooming a bit closer shows us that this threshold of -10 allows us to exclude the last spike but keep the others!"
   ]
  },
  {
   "cell_type": "markdown",
   "metadata": {},
   "source": [
    "### Putting it all together: Find spikes across all sweeps"
   ]
  },
  {
   "cell_type": "markdown",
   "metadata": {},
   "source": [
    "So far we have just been analyzing a single sweep of our ABF file. However functionally"
   ]
  }
 ],
 "metadata": {
  "kernelspec": {
   "display_name": "Python 3",
   "language": "python",
   "name": "python3"
  },
  "language_info": {
   "codemirror_mode": {
    "name": "ipython",
    "version": 3
   },
   "file_extension": ".py",
   "mimetype": "text/x-python",
   "name": "python",
   "nbconvert_exporter": "python",
   "pygments_lexer": "ipython3",
   "version": "3.7.1"
  }
 },
 "nbformat": 4,
 "nbformat_minor": 4
}
