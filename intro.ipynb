{
 "cells": [
  {
   "cell_type": "markdown",
   "metadata": {},
   "source": [
    "# Patch clamp (current clamp) Analysis in python \n",
    "## with pyABF, IPFX, and Other Open source tools"
   ]
  },
  {
   "cell_type": "markdown",
   "metadata": {},
   "source": [
    "## Introduction"
   ]
  },
  {
   "cell_type": "markdown",
   "metadata": {},
   "source": [
    "   Welcome! The purpose of these notebooks are to provide an entry point for doing analysis on patch-clamp data in python. With this in mind, these notebooks will hopefully help patch-clampers analyzing their own data in python, or help computational neuroscientists start working with patch-clamp data. The books assume some programming knowledge. \n",
    "   \n",
    "   The books will deal with working with data from the pClamp (molecular devices) suite of tools. However, many of the code found here can be applied to other data sets, as long as the data can be imported into python.\n",
    "\n",
    "For a small demonstration of the kind of analysis you can do check out [https://abf.smestern.com](abf.smestern.com) which runs on a backend of python, pyabf and ipfx!\n",
    "![abfsmester](images/abfsmest.png)"
   ]
  },
  {
   "cell_type": "markdown",
   "metadata": {},
   "source": [
    "# Acknowledgements"
   ]
  },
  {
   "cell_type": "markdown",
   "metadata": {},
   "source": [
    "# Other resources"
   ]
  },
  {
   "cell_type": "code",
   "execution_count": null,
   "metadata": {},
   "outputs": [],
   "source": []
  }
 ],
 "metadata": {
  "kernelspec": {
   "display_name": "Python 3",
   "language": "python",
   "name": "python3"
  },
  "language_info": {
   "codemirror_mode": {
    "name": "ipython",
    "version": 3
   },
   "file_extension": ".py",
   "mimetype": "text/x-python",
   "name": "python",
   "nbconvert_exporter": "python",
   "pygments_lexer": "ipython3",
   "version": "3.7.1"
  }
 },
 "nbformat": 4,
 "nbformat_minor": 4
}
